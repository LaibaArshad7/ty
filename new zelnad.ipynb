{
 "cells": [
  {
   "cell_type": "code",
   "execution_count": 1,
   "id": "5a795011",
   "metadata": {},
   "outputs": [
    {
     "name": "stdout",
     "output_type": "stream",
     "text": [
      "Twinkle,twinkle,little star,\n",
      "             How I wonder what you are!\n",
      "                      Up above the world so high,\n",
      "                      Like a diamond in the sky.\n",
      "     Twinkle,twinkle,little star,\n",
      "             How I wonder what you are\n"
     ]
    }
   ],
   "source": [
    "L='''Twinkle,twinkle,little star,\n",
    "             How I wonder what you are!\n",
    "                      Up above the world so high,\n",
    "                      Like a diamond in the sky.\n",
    "     Twinkle,twinkle,little star,\n",
    "             How I wonder what you are'''\n",
    "print(L);"
   ]
  },
  {
   "cell_type": "code",
   "execution_count": 2,
   "id": "96d6b121",
   "metadata": {},
   "outputs": [
    {
     "name": "stdout",
     "output_type": "stream",
     "text": [
      "python version\n",
      "3.8.8 (default, Apr 13 2021, 15:08:03) [MSC v.1916 64 bit (AMD64)]\n",
      "python information\n",
      "sys.version_info(major=3, minor=8, micro=8, releaselevel='final', serial=0)\n"
     ]
    }
   ],
   "source": [
    "import sys;\n",
    "print(\"python version\");\n",
    "print(sys.version);\n",
    "print(\"python information\");\n",
    "print(sys.version_info);"
   ]
  },
  {
   "cell_type": "code",
   "execution_count": 3,
   "id": "89c0a7d6",
   "metadata": {},
   "outputs": [
    {
     "name": "stdout",
     "output_type": "stream",
     "text": [
      "Current date and time is:\n",
      "21-11-10 15:20:51\n"
     ]
    }
   ],
   "source": [
    "import datetime;\n",
    "now=datetime.datetime.now()\n",
    "print(\"Current date and time is:\");\n",
    "print(now.strftime(\"%y-%m-%d %H:%M:%S\"));"
   ]
  },
  {
   "cell_type": "code",
   "execution_count": 4,
   "id": "7c85fa22",
   "metadata": {},
   "outputs": [
    {
     "name": "stdout",
     "output_type": "stream",
     "text": [
      "enter the area of a circle56\n",
      "The radius of a circle is :  9852.03456165759\n"
     ]
    }
   ],
   "source": [
    "import math;\n",
    "radius=float(input(\"enter the area of a circle\"))\n",
    "area=math.pi*radius*radius;\n",
    "print(\"The radius of a circle is : \",area);"
   ]
  },
  {
   "cell_type": "code",
   "execution_count": 5,
   "id": "3cfdc6e5",
   "metadata": {},
   "outputs": [
    {
     "name": "stdout",
     "output_type": "stream",
     "text": [
      "enter your first name/nurwa\n",
      "enter your last name/nhocane\n",
      "awru enacoh\n"
     ]
    }
   ],
   "source": [
    "fname=(input(\"enter your first name/n\"))[::-1];\n",
    "lname=(input(\"enter your last name/n\"))[::-1];\n",
    "print(fname+\" \"+lname);"
   ]
  },
  {
   "cell_type": "code",
   "execution_count": 6,
   "id": "33db558b",
   "metadata": {},
   "outputs": [
    {
     "name": "stdout",
     "output_type": "stream",
     "text": [
      "enter your first number94\n",
      "enter your second number6\n",
      "The sum of two number is :  100\n"
     ]
    }
   ],
   "source": [
    "p=int(input(\"enter your first number\"));\n",
    "q=int(input(\"enter your second number\"));\n",
    "print(\"The sum of two number is : \",p+q);"
   ]
  },
  {
   "cell_type": "code",
   "execution_count": 8,
   "id": "38f78aed",
   "metadata": {},
   "outputs": [
    {
     "name": "stdout",
     "output_type": "stream",
     "text": [
      "enter your number80\n",
      "80 is an even number\n"
     ]
    }
   ],
   "source": [
    "num=int(input(\"enter your number\"));\n",
    "remainder=num%2;\n",
    "if remainder ==0:\n",
    "    print(num ,\"is an even number\");\n",
    "else:\n",
    "    print(num ,\"is an odd number\");"
   ]
  },
  {
   "cell_type": "code",
   "execution_count": 9,
   "id": "820ba8c2",
   "metadata": {},
   "outputs": [
    {
     "name": "stdout",
     "output_type": "stream",
     "text": [
      "11\n"
     ]
    }
   ],
   "source": [
    "a = [1, 1, 2, 3, 5, 8, 13, 21, 34, 55, 89] \n",
    "print(len(a));"
   ]
  },
  {
   "cell_type": "code",
   "execution_count": 10,
   "id": "d047c153",
   "metadata": {},
   "outputs": [
    {
     "name": "stdout",
     "output_type": "stream",
     "text": [
      "232\n"
     ]
    }
   ],
   "source": [
    "a = [1, 1, 2, 3, 5, 8, 13, 21, 34, 55, 89] \n",
    "print(sum(a));"
   ]
  },
  {
   "cell_type": "code",
   "execution_count": 11,
   "id": "c54eeb91",
   "metadata": {},
   "outputs": [
    {
     "name": "stdout",
     "output_type": "stream",
     "text": [
      "89\n"
     ]
    }
   ],
   "source": [
    "a = [1, 1, 2, 3, 5, 8, 13, 21, 34, 55, 89] \n",
    "largest_num=max(a);\n",
    "print(largest_num);"
   ]
  },
  {
   "cell_type": "code",
   "execution_count": 12,
   "id": "d9317bfe",
   "metadata": {},
   "outputs": [
    {
     "name": "stdout",
     "output_type": "stream",
     "text": [
      "[1, 1, 2, 3]\n"
     ]
    }
   ],
   "source": [
    "a = [1, 1, 2, 3, 5, 8, 13, 21, 34, 55, 89] \n",
    "print([x for x in a if x<5]);"
   ]
  },
  {
   "cell_type": "code",
   "execution_count": 13,
   "id": "bdde39aa",
   "metadata": {},
   "outputs": [
    {
     "name": "stdout",
     "output_type": "stream",
     "text": [
      "your grade is B\n"
     ]
    }
   ],
   "source": [
    "math=90;\n",
    "physics=87;\n",
    "urdu=56;\n",
    "islamiat=54;\n",
    "geography=43;\n",
    "total=math+physics+urdu+islamiat+geography;\n",
    "average=total/5;\n",
    "if average >=90 and average <=100:\n",
    "    print(\"your grade is A+1\");\n",
    "elif average >=80 and average <=90:\n",
    "    print(\"your grade is A+\");\n",
    "elif average >=70 and average <=80:\n",
    "    print(\"your grade is A\");\n",
    "elif average >=60 and average <=70:\n",
    "    print(\"your grade is B\");\n",
    "elif average >=50 and average <=60:\n",
    "    print(\"your grade is C\");\n",
    "elif average >=40 and average <=50:\n",
    "    print(\"your grade is D\");\n",
    "elif average >=33 and average <=40:\n",
    "    print(\"your grade is E\");\n",
    "elif average <=32:\n",
    "    print(\"fail\");\n",
    "else:\n",
    "    print(\"invalid marks\");"
   ]
  },
  {
   "cell_type": "code",
   "execution_count": null,
   "id": "584ea36d",
   "metadata": {},
   "outputs": [],
   "source": []
  }
 ],
 "metadata": {
  "kernelspec": {
   "display_name": "Python 3",
   "language": "python",
   "name": "python3"
  },
  "language_info": {
   "codemirror_mode": {
    "name": "ipython",
    "version": 3
   },
   "file_extension": ".py",
   "mimetype": "text/x-python",
   "name": "python",
   "nbconvert_exporter": "python",
   "pygments_lexer": "ipython3",
   "version": "3.8.8"
  }
 },
 "nbformat": 4,
 "nbformat_minor": 5
}
